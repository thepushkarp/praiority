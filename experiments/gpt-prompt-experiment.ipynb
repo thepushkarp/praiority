{
 "cells": [
  {
   "cell_type": "code",
   "execution_count": 184,
   "metadata": {},
   "outputs": [
    {
     "name": "stdout",
     "output_type": "stream",
     "text": [
      "The autotime extension is already loaded. To reload it, use:\n",
      "  %reload_ext autotime\n",
      "time: 2.03 ms (started: 2023-04-01 12:56:31 +05:30)\n"
     ]
    }
   ],
   "source": [
    "try:\n",
    "    %load_ext autotime\n",
    "except:\n",
    "    !pip install ipython-autotime --quiet\n",
    "    %load_ext autotime"
   ]
  },
  {
   "cell_type": "code",
   "execution_count": 29,
   "metadata": {},
   "outputs": [
    {
     "name": "stdout",
     "output_type": "stream",
     "text": [
      "time: 992 ms (started: 2023-03-31 23:54:32 +05:30)\n"
     ]
    }
   ],
   "source": [
    "# Upgrading pip\n",
    "!pip install --upgrade pip --quiet"
   ]
  },
  {
   "cell_type": "code",
   "execution_count": 30,
   "metadata": {},
   "outputs": [
    {
     "name": "stdout",
     "output_type": "stream",
     "text": [
      "time: 937 ms (started: 2023-03-31 23:54:33 +05:30)\n"
     ]
    }
   ],
   "source": [
    "!pip install --upgrade openai --quiet"
   ]
  },
  {
   "cell_type": "code",
   "execution_count": 31,
   "metadata": {},
   "outputs": [
    {
     "name": "stdout",
     "output_type": "stream",
     "text": [
      "time: 748 ms (started: 2023-03-31 23:54:34 +05:30)\n"
     ]
    }
   ],
   "source": [
    "!pip install python-dotenv --quiet"
   ]
  },
  {
   "cell_type": "code",
   "execution_count": 32,
   "metadata": {},
   "outputs": [
    {
     "name": "stdout",
     "output_type": "stream",
     "text": [
      "The dotenv extension is already loaded. To reload it, use:\n",
      "  %reload_ext dotenv\n",
      "time: 2.05 ms (started: 2023-03-31 23:54:35 +05:30)\n"
     ]
    }
   ],
   "source": [
    "%load_ext dotenv\n",
    "%dotenv"
   ]
  },
  {
   "cell_type": "code",
   "execution_count": 33,
   "metadata": {},
   "outputs": [
    {
     "name": "stdout",
     "output_type": "stream",
     "text": [
      "time: 231 µs (started: 2023-03-31 23:54:35 +05:30)\n"
     ]
    }
   ],
   "source": [
    "# import the OpenAI Python library for calling the OpenAI API\n",
    "import openai"
   ]
  },
  {
   "cell_type": "code",
   "execution_count": 34,
   "metadata": {},
   "outputs": [
    {
     "name": "stdout",
     "output_type": "stream",
     "text": [
      "time: 302 µs (started: 2023-03-31 23:54:35 +05:30)\n"
     ]
    }
   ],
   "source": [
    "import os\n",
    "# get the OpenAI API key from .env file\n",
    "openai.api_key = os.getenv(\"OPENAI_API_KEY_MISHRA\")"
   ]
  },
  {
   "cell_type": "code",
   "execution_count": 188,
   "metadata": {},
   "outputs": [
    {
     "name": "stdout",
     "output_type": "stream",
     "text": [
      "{'babbage': {'model-name': 'text-babbage-001'},\n",
      " 'curie': {'model-name': 'text-curie-001'},\n",
      " 'davinci': {'model-name': 'text-davinci-003'},\n",
      " 'gpt-3.5': {'model-name': 'gpt-3.5-turbo'},\n",
      " 'gpt-4': {'model-name': 'gpt-4'}}\n",
      "time: 547 µs (started: 2023-04-01 12:59:28 +05:30)\n"
     ]
    }
   ],
   "source": [
    "import json\n",
    "from pprint import pprint\n",
    "\n",
    "with open('../config.json') as f:\n",
    "    config = json.load(f)\n",
    "\n",
    "pprint(config[\"models\"])"
   ]
  },
  {
   "cell_type": "code",
   "execution_count": 61,
   "metadata": {},
   "outputs": [
    {
     "name": "stdout",
     "output_type": "stream",
     "text": [
      "time: 232 µs (started: 2023-04-01 00:29:58 +05:30)\n"
     ]
    }
   ],
   "source": [
    "prompt_generation_prompt = \"\"\"Today, your job is to generate prompts for GPT-4. Can you please generate the best GPT-4 prompts on ways to break down tasks from a todo list into smaller steps for adhd & executive dysfunctional people?\"\"\""
   ]
  },
  {
   "cell_type": "code",
   "execution_count": 62,
   "metadata": {},
   "outputs": [
    {
     "name": "stdout",
     "output_type": "stream",
     "text": [
      "time: 24.1 s (started: 2023-04-01 00:29:58 +05:30)\n"
     ]
    }
   ],
   "source": [
    "# generate results by calling the openai's api's chat endpoint\n",
    "\n",
    "response = openai.ChatCompletion.create(\n",
    "    model=config[\"models\"][\"gpt-3.5\"][\"model-name\"],\n",
    "    messages=[\n",
    "        {\"role\": \"system\", \"content\": \"You are GPT-4, OpenAI's advanced language model, trained to give the best prompts for the given task.\"},\n",
    "        {\"role\": \"user\", \"content\": prompt_generation_prompt}\n",
    "    ]\n",
    ")"
   ]
  },
  {
   "cell_type": "code",
   "execution_count": 58,
   "metadata": {},
   "outputs": [
    {
     "data": {
      "text/plain": [
       "<OpenAIObject chat.completion id=chatcmpl-70EBMk7YkQPi4VPIuXamlEz0lnmgC at 0x7f78f8c74270> JSON: {\n",
       "  \"choices\": [\n",
       "    {\n",
       "      \"finish_reason\": \"stop\",\n",
       "      \"index\": 0,\n",
       "      \"message\": {\n",
       "        \"content\": \"Sure, here are some prompts:\\n\\n1. Discuss the importance of breaking down tasks into smaller steps for individuals with ADHD and executive dysfunction. Why is this technique effective?\\n2. List or create a visual guide of the steps involved in breaking down a task into smaller steps. How can this process be applied to different types of tasks?\\n3. Explore communication strategies that help individuals with ADHD and executive dysfunction follow through on tasks. How can task breaking techniques be incorporated into these strategies to promote success?\\n4. Review case studies or personal experiences of individuals with ADHD and executive dysfunction who have effectively used task breaking techniques to manage their daily tasks. What worked well for them, and what challenges did they encounter?\\n5. Consider the role of technology in supporting task breaking techniques. How can technology be used to create reminders, track progress, and provide feedback to individuals with ADHD and executive dysfunction? \\n6. Develop a system for organizing and prioritizing tasks that includes task breaking techniques. How can this system be customized to meet the unique needs of individuals with ADHD or executive dysfunction? \\n7. Examine the potential benefits and limitations of different task breaking techniques, such as creating a checklist, using a timer, or breaking down tasks into subtasks. Which techniques are best suited for different types of tasks or individuals with specific needs?\",\n",
       "        \"role\": \"assistant\"\n",
       "      }\n",
       "    }\n",
       "  ],\n",
       "  \"created\": 1680288872,\n",
       "  \"id\": \"chatcmpl-70EBMk7YkQPi4VPIuXamlEz0lnmgC\",\n",
       "  \"model\": \"gpt-3.5-turbo-0301\",\n",
       "  \"object\": \"chat.completion\",\n",
       "  \"usage\": {\n",
       "    \"completion_tokens\": 262,\n",
       "    \"prompt_tokens\": 64,\n",
       "    \"total_tokens\": 326\n",
       "  }\n",
       "}"
      ]
     },
     "execution_count": 58,
     "metadata": {},
     "output_type": "execute_result"
    },
    {
     "name": "stdout",
     "output_type": "stream",
     "text": [
      "time: 3.05 ms (started: 2023-04-01 00:24:53 +05:30)\n"
     ]
    }
   ],
   "source": [
    "response"
   ]
  },
  {
   "cell_type": "code",
   "execution_count": 63,
   "metadata": {},
   "outputs": [
    {
     "name": "stdout",
     "output_type": "stream",
     "text": [
      "1. \"Give five examples of how breaking down larger tasks into smaller steps can benefit those with ADHD and executive dysfunction.\"\n",
      "\n",
      "2. \"Discuss the importance of creating detailed task lists with specific, actionable steps for individuals with ADHD and executive dysfunction.\"\n",
      "\n",
      "3. \"Explain how utilizing task management tools such as calendars, reminders, and checklists can help individuals with ADHD and executive dysfunction break down tasks into manageable steps.\"\n",
      "\n",
      "4. \"Offer strategies to help individuals with ADHD and executive dysfunction prioritize and sequence individual tasks on a to-do list.\"\n",
      "\n",
      "5. \"Describe how setting clear goals and timelines for completing individual steps within a larger task can improve productivity and reduce feelings of overwhelm for those with ADHD and executive dysfunction.\"\n",
      "\n",
      "6. \"Provide tips for breaking down complex tasks into more manageable steps, including mapping out a plan, identifying resources, and setting intermediate goals.\"\n",
      "\n",
      "7. \"Create a sample to-do list for a person with ADHD or executive dysfunction, with detailed steps for each task and suggestions for task management.\"\n",
      "\n",
      "8. \"Discuss the role of self-monitoring and self-reflection in task breakdown and management, and offer strategies for individuals with ADHD and executive dysfunction to develop these skills.\"\n",
      "\n",
      "9. \"Explain how habit formation and repetition can help individuals with ADHD and executive dysfunction build task management skills over time.\"\n",
      "\n",
      "10. \"Provide examples of how breaking down tasks into smaller steps can improve motivation, reduce procrastination, and promote a sense of accomplishment for individuals with ADHD and executive dysfunction.\"\n",
      "time: 310 µs (started: 2023-04-01 00:30:29 +05:30)\n"
     ]
    }
   ],
   "source": [
    "print(response[\"choices\"][0][\"message\"][\"content\"])"
   ]
  },
  {
   "attachments": {},
   "cell_type": "markdown",
   "metadata": {},
   "source": [
    "#### **pupa's note**: Not satisfactory. `gpt-3.5-turbo` does not handle the above prompt well. Moving on..."
   ]
  },
  {
   "cell_type": "code",
   "execution_count": 203,
   "metadata": {},
   "outputs": [
    {
     "name": "stdout",
     "output_type": "stream",
     "text": [
      "time: 306 µs (started: 2023-04-01 13:21:06 +05:30)\n"
     ]
    }
   ],
   "source": [
    "# todo_list = \"\"\"Today's to-do list:\n",
    "\n",
    "# - Go to the grocery store\n",
    "# - Workout in the gym\n",
    "# - Go to the doctor's appointment\n",
    "# - Pickup Manu from station\n",
    "# - Call mom\n",
    "\n",
    "# \"\"\"\n",
    "\n",
    "todo_list = \"\"\"Today's to-do list:\n",
    "\n",
    "- Call Jessica\n",
    "- Complete writing the blog post\n",
    "- Cook brownies for dad's birthday\n",
    "- Collect package from the post office\n",
    "- Buy groceries for the week\n",
    "\n",
    "\"\"\""
   ]
  },
  {
   "cell_type": "code",
   "execution_count": 204,
   "metadata": {},
   "outputs": [
    {
     "name": "stdout",
     "output_type": "stream",
     "text": [
      "time: 31.1 s (started: 2023-04-01 13:21:07 +05:30)\n"
     ]
    }
   ],
   "source": [
    "# generate results by calling the openai's api's chat endpoint\n",
    "\n",
    "prompts = config[\"prompts\"]\n",
    "\n",
    "response = openai.ChatCompletion.create(\n",
    "    model=config[\"models\"][\"gpt-3.5\"][\"model-name\"],\n",
    "    messages=[\n",
    "        {\"role\": \"system\", \"content\": prompts[\"subtask_system_prompt\"]},\n",
    "        {\n",
    "            \"role\": \"user\",\n",
    "            \"content\": prompts[\"task_division_prompt_prefix\"]\n",
    "            + todo_list\n",
    "            + prompts[\"task_division_prompt_suffix\"],\n",
    "        },\n",
    "    ],\n",
    "    temperature=0.5,\n",
    "    max_tokens=1024,\n",
    "    top_p=1,\n",
    "    frequency_penalty=0,\n",
    "    presence_penalty=0,\n",
    "    stop=[\"\\n\\n\\n\"],\n",
    ")"
   ]
  },
  {
   "cell_type": "code",
   "execution_count": 205,
   "metadata": {},
   "outputs": [
    {
     "name": "stdout",
     "output_type": "stream",
     "text": [
      "time: 319 µs (started: 2023-04-01 13:21:38 +05:30)\n"
     ]
    }
   ],
   "source": [
    "separate_tasks = response[\"choices\"][0][\"message\"][\"content\"]"
   ]
  },
  {
   "cell_type": "code",
   "execution_count": 206,
   "metadata": {},
   "outputs": [
    {
     "name": "stdout",
     "output_type": "stream",
     "text": [
      "Task: Call Jessica\n",
      "Mini Atomic Task | Time Estimate | Priority Level |\n",
      "Look up Jessica's phone number | 5 | Low |\n",
      "Dial Jessica's phone number | 1 | High |\n",
      "Introduce yourself and ask how she's doing | 2 | Medium |\n",
      "Discuss the purpose of the call | 10 | High |\n",
      "Take notes and summarize the call | 5 | Medium |\n",
      "\n",
      "Task: Complete writing the blog post\n",
      "Mini Atomic Task | Time Estimate | Priority Level |\n",
      "Brainstorm ideas for the blog post | 20 | Low |\n",
      "Research for the blog post | 30 | Medium |\n",
      "Write the introduction | 15 | High |\n",
      "Write the body of the post | 60 | High |\n",
      "Write the conclusion | 15 | High |\n",
      "Edit and proofread the post | 30 | Medium |\n",
      "\n",
      "Task: Cook brownies for dad's birthday\n",
      "Mini Atomic Task | Time Estimate | Priority Level |\n",
      "Gather ingredients and equipment | 10 | Low |\n",
      "Preheat the oven | 5 | Medium |\n",
      "Mix the batter | 20 | High |\n",
      "Pour the batter into the pan | 5 | Medium |\n",
      "Bake the brownies in the oven | 25 | High |\n",
      "Take the brownies out of the oven and let them cool | 15 | Medium |\n",
      "Cut and serve the brownies | 10 | High |\n",
      "\n",
      "Task: Collect package from the post office\n",
      "Mini Atomic Task | Time Estimate | Priority Level |\n",
      "Get ready to go to the post office | 10 | Low |\n",
      "Travel to the post office | 20 | Medium |\n",
      "Wait in line to collect the package | 15 | Medium |\n",
      "Show identification and collect the package | 5 | High |\n",
      "Check the contents of the package | 10 | Medium |\n",
      "\n",
      "Task: Buy groceries for the week\n",
      "Mini Atomic Task | Time Estimate | Priority Level |\n",
      "Make a grocery list | 10 | Low |\n",
      "Get ready to go to the grocery store | 10 | Low |\n",
      "Travel to the grocery store | 20 | Medium |\n",
      "Find and select the items on the list | 45 | High |\n",
      "Pay for the groceries | 5 | Medium |\n",
      "Pack the groceries and travel back home | 30 | Medium |\n",
      "time: 263 µs (started: 2023-04-01 13:21:38 +05:30)\n"
     ]
    }
   ],
   "source": [
    "print(separate_tasks)"
   ]
  },
  {
   "cell_type": "code",
   "execution_count": 209,
   "metadata": {},
   "outputs": [
    {
     "name": "stdout",
     "output_type": "stream",
     "text": [
      "time: 772 µs (started: 2023-04-01 13:21:52 +05:30)\n"
     ]
    }
   ],
   "source": [
    "# Function to store the task and their division as a dictionary\n",
    "def parse_tasks(tasks_output: str) -> dict:\n",
    "    tasks = []\n",
    "    for task in tasks_output.split(\"Task: \"):\n",
    "        current_task = {}\n",
    "        if task.strip() == \"\":\n",
    "            continue\n",
    "        task_name, task_details = task.split(\"\\nMini Atomic Task | Time Estimate | Priority Level |\")\n",
    "        task_name = task_name.strip()\n",
    "        task_details = task_details.strip()\n",
    "        current_task[\"task_name\"] = task_name\n",
    "        current_task[\"task_details\"] = []\n",
    "        for task_detail in task_details.split(\"\\n\"):\n",
    "            current_task_detail = {}\n",
    "            if task_detail.strip() == \"\" or len(task_detail.split(\"|\")) != 4:\n",
    "                continue\n",
    "            task_detail = task_detail.strip()\n",
    "            task_detail_name, task_time_estimate, task_priority, _ = task_detail.split(\"|\")\n",
    "            current_task_detail[\"task_detail_name\"] = task_detail_name.strip()\n",
    "            current_task_detail[\"task_time_estimate\"] = task_time_estimate.strip()\n",
    "            current_task_detail[\"task_priority\"] = task_priority.strip()\n",
    "            current_task[\"task_details\"].append(current_task_detail)\n",
    "        tasks.append(current_task)\n",
    "    return tasks"
   ]
  },
  {
   "cell_type": "code",
   "execution_count": 212,
   "metadata": {},
   "outputs": [
    {
     "name": "stdout",
     "output_type": "stream",
     "text": [
      "[{'task_details': [{'task_detail_name': \"Look up Jessica's phone number\",\n",
      "                    'task_priority': 'Low',\n",
      "                    'task_time_estimate': '5'},\n",
      "                   {'task_detail_name': \"Dial Jessica's phone number\",\n",
      "                    'task_priority': 'High',\n",
      "                    'task_time_estimate': '1'},\n",
      "                   {'task_detail_name': \"Introduce yourself and ask how she's \"\n",
      "                                        'doing',\n",
      "                    'task_priority': 'Medium',\n",
      "                    'task_time_estimate': '2'},\n",
      "                   {'task_detail_name': 'Discuss the purpose of the call',\n",
      "                    'task_priority': 'High',\n",
      "                    'task_time_estimate': '10'},\n",
      "                   {'task_detail_name': 'Take notes and summarize the call',\n",
      "                    'task_priority': 'Medium',\n",
      "                    'task_time_estimate': '5'}],\n",
      "  'task_name': 'Call Jessica'},\n",
      " {'task_details': [{'task_detail_name': 'Brainstorm ideas for the blog post',\n",
      "                    'task_priority': 'Low',\n",
      "                    'task_time_estimate': '20'},\n",
      "                   {'task_detail_name': 'Research for the blog post',\n",
      "                    'task_priority': 'Medium',\n",
      "                    'task_time_estimate': '30'},\n",
      "                   {'task_detail_name': 'Write the introduction',\n",
      "                    'task_priority': 'High',\n",
      "                    'task_time_estimate': '15'},\n",
      "                   {'task_detail_name': 'Write the body of the post',\n",
      "                    'task_priority': 'High',\n",
      "                    'task_time_estimate': '60'},\n",
      "                   {'task_detail_name': 'Write the conclusion',\n",
      "                    'task_priority': 'High',\n",
      "                    'task_time_estimate': '15'},\n",
      "                   {'task_detail_name': 'Edit and proofread the post',\n",
      "                    'task_priority': 'Medium',\n",
      "                    'task_time_estimate': '30'}],\n",
      "  'task_name': 'Complete writing the blog post'},\n",
      " {'task_details': [{'task_detail_name': 'Gather ingredients and equipment',\n",
      "                    'task_priority': 'Low',\n",
      "                    'task_time_estimate': '10'},\n",
      "                   {'task_detail_name': 'Preheat the oven',\n",
      "                    'task_priority': 'Medium',\n",
      "                    'task_time_estimate': '5'},\n",
      "                   {'task_detail_name': 'Mix the batter',\n",
      "                    'task_priority': 'High',\n",
      "                    'task_time_estimate': '20'},\n",
      "                   {'task_detail_name': 'Pour the batter into the pan',\n",
      "                    'task_priority': 'Medium',\n",
      "                    'task_time_estimate': '5'},\n",
      "                   {'task_detail_name': 'Bake the brownies in the oven',\n",
      "                    'task_priority': 'High',\n",
      "                    'task_time_estimate': '25'},\n",
      "                   {'task_detail_name': 'Take the brownies out of the oven and '\n",
      "                                        'let them cool',\n",
      "                    'task_priority': 'Medium',\n",
      "                    'task_time_estimate': '15'},\n",
      "                   {'task_detail_name': 'Cut and serve the brownies',\n",
      "                    'task_priority': 'High',\n",
      "                    'task_time_estimate': '10'}],\n",
      "  'task_name': \"Cook brownies for dad's birthday\"},\n",
      " {'task_details': [{'task_detail_name': 'Get ready to go to the post office',\n",
      "                    'task_priority': 'Low',\n",
      "                    'task_time_estimate': '10'},\n",
      "                   {'task_detail_name': 'Travel to the post office',\n",
      "                    'task_priority': 'Medium',\n",
      "                    'task_time_estimate': '20'},\n",
      "                   {'task_detail_name': 'Wait in line to collect the package',\n",
      "                    'task_priority': 'Medium',\n",
      "                    'task_time_estimate': '15'},\n",
      "                   {'task_detail_name': 'Show identification and collect the '\n",
      "                                        'package',\n",
      "                    'task_priority': 'High',\n",
      "                    'task_time_estimate': '5'},\n",
      "                   {'task_detail_name': 'Check the contents of the package',\n",
      "                    'task_priority': 'Medium',\n",
      "                    'task_time_estimate': '10'}],\n",
      "  'task_name': 'Collect package from the post office'},\n",
      " {'task_details': [{'task_detail_name': 'Make a grocery list',\n",
      "                    'task_priority': 'Low',\n",
      "                    'task_time_estimate': '10'},\n",
      "                   {'task_detail_name': 'Get ready to go to the grocery store',\n",
      "                    'task_priority': 'Low',\n",
      "                    'task_time_estimate': '10'},\n",
      "                   {'task_detail_name': 'Travel to the grocery store',\n",
      "                    'task_priority': 'Medium',\n",
      "                    'task_time_estimate': '20'},\n",
      "                   {'task_detail_name': 'Find and select the items on the list',\n",
      "                    'task_priority': 'High',\n",
      "                    'task_time_estimate': '45'},\n",
      "                   {'task_detail_name': 'Pay for the groceries',\n",
      "                    'task_priority': 'Medium',\n",
      "                    'task_time_estimate': '5'},\n",
      "                   {'task_detail_name': 'Pack the groceries and travel back '\n",
      "                                        'home',\n",
      "                    'task_priority': 'Medium',\n",
      "                    'task_time_estimate': '30'}],\n",
      "  'task_name': 'Buy groceries for the week'}]\n",
      "time: 1.6 ms (started: 2023-04-01 13:22:08 +05:30)\n"
     ]
    }
   ],
   "source": [
    "pprint(parse_tasks(separate_tasks))"
   ]
  },
  {
   "cell_type": "code",
   "execution_count": 236,
   "metadata": {},
   "outputs": [
    {
     "name": "stdout",
     "output_type": "stream",
     "text": [
      "time: 3.68 ms (started: 2023-04-01 14:23:12 +05:30)\n"
     ]
    }
   ],
   "source": [
    "# save the tasks to a json file\n",
    "with open(\"tasks.json\", \"w\") as f:\n",
    "    json.dump(parse_tasks(separate_tasks), f, indent=4)\n",
    "    "
   ]
  },
  {
   "cell_type": "code",
   "execution_count": 249,
   "metadata": {},
   "outputs": [
    {
     "name": "stdout",
     "output_type": "stream",
     "text": [
      "time: 899 µs (started: 2023-04-01 14:32:56 +05:30)\n"
     ]
    }
   ],
   "source": [
    "day_schedule_prompt_prefix = \"\"\"You are given a list of tasks divided into small atomic tasks, along with approximate time estimate to complete each small task (in minutes) and the task priority. From this, you need to generate a schedule for the day. Please consider that the person may need regular breaks in the schedule and might have varying levels of focus during the day, so it is a good idea to generate a list that can keep them focused. Be concise and do not provide any other information apart from what is asked. Mix subtask from different task together throughout the day to keep the person engaged and focused and add variety to the asks in each time slot.\n",
    "\n",
    "The tasks are given below in the following format:\n",
    "\n",
    "Task: <TASK-NAME>\n",
    "Mini Atomic Task | Time Estimate | Priority Level |\n",
    "<MINI-ATOMIC-TASK-1> | <TIME-ESTIMATE-1> | <PRIORITY-LEVEL-1> |\n",
    "\n",
    "Tasks:\n",
    "\"\"\""
   ]
  },
  {
   "cell_type": "code",
   "execution_count": 250,
   "metadata": {},
   "outputs": [
    {
     "name": "stdout",
     "output_type": "stream",
     "text": [
      "time: 237 µs (started: 2023-04-01 14:32:56 +05:30)\n"
     ]
    }
   ],
   "source": [
    "day_schedule_system_prompt = \"\"\"You are an expert executive dysfunction coach. You help people with ADHD to plan their day better by understanding their tasks and prepare a schedule for their day.\"\"\""
   ]
  },
  {
   "cell_type": "code",
   "execution_count": 251,
   "metadata": {},
   "outputs": [
    {
     "name": "stdout",
     "output_type": "stream",
     "text": [
      "time: 276 µs (started: 2023-04-01 14:32:56 +05:30)\n"
     ]
    }
   ],
   "source": [
    "day_schedule_system_prompt_suffix = \"\"\"Generate the schedule in the following format:\n",
    "\n",
    "Time Slot: <TIME-SLOT>\n",
    "<ATOMIC-TASK-1> | <TIME-ESTIMATE-1> | <PRIORITY-LEVEL-1> |\n",
    "\n",
    "Day Schedule:\n",
    "\"\"\""
   ]
  },
  {
   "cell_type": "code",
   "execution_count": 252,
   "metadata": {},
   "outputs": [
    {
     "name": "stdout",
     "output_type": "stream",
     "text": [
      "time: 32.4 s (started: 2023-04-01 14:32:57 +05:30)\n"
     ]
    }
   ],
   "source": [
    "response2 = openai.ChatCompletion.create(\n",
    "    model=config[\"models\"][\"gpt-3.5\"][\"model-name\"],\n",
    "    messages=[\n",
    "        {\"role\": \"system\", \"content\": day_schedule_system_prompt},\n",
    "        {\n",
    "            \"role\": \"user\",\n",
    "            \"content\": day_schedule_prompt_prefix\n",
    "            + separate_tasks\n",
    "            + day_schedule_system_prompt_suffix,\n",
    "        },\n",
    "    ],\n",
    "    temperature=0.5,\n",
    "    max_tokens=1024,\n",
    "    top_p=1,\n",
    "    frequency_penalty=0,\n",
    "    presence_penalty=0,\n",
    "    stop=[\"\\n\\n\\n\"],\n",
    ")"
   ]
  },
  {
   "cell_type": "code",
   "execution_count": 253,
   "metadata": {},
   "outputs": [
    {
     "name": "stdout",
     "output_type": "stream",
     "text": [
      "time: 300 µs (started: 2023-04-01 14:33:29 +05:30)\n"
     ]
    }
   ],
   "source": [
    "schedule = response2[\"choices\"][0][\"message\"][\"content\"]"
   ]
  },
  {
   "cell_type": "code",
   "execution_count": 248,
   "metadata": {},
   "outputs": [
    {
     "name": "stdout",
     "output_type": "stream",
     "text": [
      "Time Slot: 9:00 AM - 10:00 AM\n",
      "Look up Jessica's phone number | 5 | Low |\n",
      "Dial Jessica's phone number | 1 | High |\n",
      "Introduce yourself and ask how she's doing | 2 | Medium |\n",
      "Discuss the purpose of the call | 10 | High |\n",
      "Take notes and summarize the call | 5 | Medium |\n",
      "\n",
      "Time Slot: 10:00 AM - 11:00 AM\n",
      "Brainstorm ideas for the blog post | 20 | Low |\n",
      "Research for the blog post | 30 | Medium |\n",
      "Write the introduction | 15 | High |\n",
      "\n",
      "Time Slot: 11:00 AM - 11:15 AM\n",
      "Take a break\n",
      "\n",
      "Time Slot: 11:15 AM - 12:45 PM\n",
      "Find and select the items on the grocery list | 45 | High |\n",
      "Pay for the groceries | 5 | Medium |\n",
      "Pack the groceries and travel back home | 30 | Medium |\n",
      "\n",
      "Time Slot: 12:45 PM - 1:30 PM\n",
      "Take a lunch break\n",
      "\n",
      "Time Slot: 1:30 PM - 2:30 PM\n",
      "Mix the batter for the brownies | 20 | High |\n",
      "Pour the batter into the pan | 5 | Medium |\n",
      "Preheat the oven | 5 | Medium |\n",
      "Bake the brownies in the oven | 25 | High |\n",
      "\n",
      "Time Slot: 2:30 PM - 2:45 PM\n",
      "Take a break\n",
      "\n",
      "Time Slot: 2:45 PM - 3:45 PM\n",
      "Write the body of the blog post | 60 | High |\n",
      "\n",
      "Time Slot: 3:45 PM - 4:00 PM\n",
      "Take a break\n",
      "\n",
      "Time Slot: 4:00 PM - 4:45 PM\n",
      "Cut and serve the brownies | 10 | High |\n",
      "Collect the package from the post office | 20 | Medium |\n",
      "Show identification and collect the package | 5 | High |\n",
      "Check the contents of the package | 10 | Medium |\n",
      "\n",
      "Time Slot: 4:45 PM - 5:00 PM\n",
      "Wrap up the day and prepare for tomorrow.\n",
      "time: 225 µs (started: 2023-04-01 14:27:42 +05:30)\n"
     ]
    }
   ],
   "source": [
    "print(schedule)"
   ]
  },
  {
   "cell_type": "code",
   "execution_count": null,
   "metadata": {},
   "outputs": [],
   "source": []
  }
 ],
 "metadata": {
  "kernelspec": {
   "display_name": "venv",
   "language": "python",
   "name": "python3"
  },
  "language_info": {
   "codemirror_mode": {
    "name": "ipython",
    "version": 3
   },
   "file_extension": ".py",
   "mimetype": "text/x-python",
   "name": "python",
   "nbconvert_exporter": "python",
   "pygments_lexer": "ipython3",
   "version": "3.9.16"
  },
  "orig_nbformat": 4
 },
 "nbformat": 4,
 "nbformat_minor": 2
}
