{
 "cells": [
  {
   "cell_type": "code",
   "execution_count": 184,
   "metadata": {},
   "outputs": [
    {
     "name": "stdout",
     "output_type": "stream",
     "text": [
      "The autotime extension is already loaded. To reload it, use:\n",
      "  %reload_ext autotime\n",
      "time: 2.03 ms (started: 2023-04-01 12:56:31 +05:30)\n"
     ]
    }
   ],
   "source": [
    "try:\n",
    "    %load_ext autotime\n",
    "except:\n",
    "    !pip install ipython-autotime --quiet\n",
    "    %load_ext autotime"
   ]
  },
  {
   "cell_type": "code",
   "execution_count": 29,
   "metadata": {},
   "outputs": [
    {
     "name": "stdout",
     "output_type": "stream",
     "text": [
      "time: 992 ms (started: 2023-03-31 23:54:32 +05:30)\n"
     ]
    }
   ],
   "source": [
    "# Upgrading pip\n",
    "!pip install --upgrade pip --quiet"
   ]
  },
  {
   "cell_type": "code",
   "execution_count": 30,
   "metadata": {},
   "outputs": [
    {
     "name": "stdout",
     "output_type": "stream",
     "text": [
      "time: 937 ms (started: 2023-03-31 23:54:33 +05:30)\n"
     ]
    }
   ],
   "source": [
    "!pip install --upgrade openai --quiet"
   ]
  },
  {
   "cell_type": "code",
   "execution_count": 31,
   "metadata": {},
   "outputs": [
    {
     "name": "stdout",
     "output_type": "stream",
     "text": [
      "time: 748 ms (started: 2023-03-31 23:54:34 +05:30)\n"
     ]
    }
   ],
   "source": [
    "!pip install python-dotenv --quiet"
   ]
  },
  {
   "cell_type": "code",
   "execution_count": 32,
   "metadata": {},
   "outputs": [
    {
     "name": "stdout",
     "output_type": "stream",
     "text": [
      "The dotenv extension is already loaded. To reload it, use:\n",
      "  %reload_ext dotenv\n",
      "time: 2.05 ms (started: 2023-03-31 23:54:35 +05:30)\n"
     ]
    }
   ],
   "source": [
    "%load_ext dotenv\n",
    "%dotenv"
   ]
  },
  {
   "cell_type": "code",
   "execution_count": 33,
   "metadata": {},
   "outputs": [
    {
     "name": "stdout",
     "output_type": "stream",
     "text": [
      "time: 231 µs (started: 2023-03-31 23:54:35 +05:30)\n"
     ]
    }
   ],
   "source": [
    "# import the OpenAI Python library for calling the OpenAI API\n",
    "import openai"
   ]
  },
  {
   "cell_type": "code",
   "execution_count": 34,
   "metadata": {},
   "outputs": [
    {
     "name": "stdout",
     "output_type": "stream",
     "text": [
      "time: 302 µs (started: 2023-03-31 23:54:35 +05:30)\n"
     ]
    }
   ],
   "source": [
    "import os\n",
    "# get the OpenAI API key from .env file\n",
    "openai.api_key = os.getenv(\"OPENAI_API_KEY_MISHRA\")"
   ]
  },
  {
   "cell_type": "code",
   "execution_count": 188,
   "metadata": {},
   "outputs": [
    {
     "name": "stdout",
     "output_type": "stream",
     "text": [
      "{'babbage': {'model-name': 'text-babbage-001'},\n",
      " 'curie': {'model-name': 'text-curie-001'},\n",
      " 'davinci': {'model-name': 'text-davinci-003'},\n",
      " 'gpt-3.5': {'model-name': 'gpt-3.5-turbo'},\n",
      " 'gpt-4': {'model-name': 'gpt-4'}}\n",
      "time: 547 µs (started: 2023-04-01 12:59:28 +05:30)\n"
     ]
    }
   ],
   "source": [
    "import json\n",
    "from pprint import pprint\n",
    "\n",
    "with open('../config.json') as f:\n",
    "    config = json.load(f)\n",
    "\n",
    "pprint(config[\"models\"])"
   ]
  },
  {
   "cell_type": "code",
   "execution_count": 61,
   "metadata": {},
   "outputs": [
    {
     "name": "stdout",
     "output_type": "stream",
     "text": [
      "time: 232 µs (started: 2023-04-01 00:29:58 +05:30)\n"
     ]
    }
   ],
   "source": [
    "prompt_generation_prompt = \"\"\"Today, your job is to generate prompts for GPT-4. Can you please generate the best GPT-4 prompts on ways to break down tasks from a todo list into smaller steps for adhd & executive dysfunctional people?\"\"\""
   ]
  },
  {
   "cell_type": "code",
   "execution_count": 62,
   "metadata": {},
   "outputs": [
    {
     "name": "stdout",
     "output_type": "stream",
     "text": [
      "time: 24.1 s (started: 2023-04-01 00:29:58 +05:30)\n"
     ]
    }
   ],
   "source": [
    "# generate results by calling the openai's api's chat endpoint\n",
    "\n",
    "response = openai.ChatCompletion.create(\n",
    "    model=config[\"models\"][\"gpt-3.5\"][\"model-name\"],\n",
    "    messages=[\n",
    "        {\"role\": \"system\", \"content\": \"You are GPT-4, OpenAI's advanced language model, trained to give the best prompts for the given task.\"},\n",
    "        {\"role\": \"user\", \"content\": prompt_generation_prompt}\n",
    "    ]\n",
    ")"
   ]
  },
  {
   "cell_type": "code",
   "execution_count": 58,
   "metadata": {},
   "outputs": [
    {
     "data": {
      "text/plain": [
       "<OpenAIObject chat.completion id=chatcmpl-70EBMk7YkQPi4VPIuXamlEz0lnmgC at 0x7f78f8c74270> JSON: {\n",
       "  \"choices\": [\n",
       "    {\n",
       "      \"finish_reason\": \"stop\",\n",
       "      \"index\": 0,\n",
       "      \"message\": {\n",
       "        \"content\": \"Sure, here are some prompts:\\n\\n1. Discuss the importance of breaking down tasks into smaller steps for individuals with ADHD and executive dysfunction. Why is this technique effective?\\n2. List or create a visual guide of the steps involved in breaking down a task into smaller steps. How can this process be applied to different types of tasks?\\n3. Explore communication strategies that help individuals with ADHD and executive dysfunction follow through on tasks. How can task breaking techniques be incorporated into these strategies to promote success?\\n4. Review case studies or personal experiences of individuals with ADHD and executive dysfunction who have effectively used task breaking techniques to manage their daily tasks. What worked well for them, and what challenges did they encounter?\\n5. Consider the role of technology in supporting task breaking techniques. How can technology be used to create reminders, track progress, and provide feedback to individuals with ADHD and executive dysfunction? \\n6. Develop a system for organizing and prioritizing tasks that includes task breaking techniques. How can this system be customized to meet the unique needs of individuals with ADHD or executive dysfunction? \\n7. Examine the potential benefits and limitations of different task breaking techniques, such as creating a checklist, using a timer, or breaking down tasks into subtasks. Which techniques are best suited for different types of tasks or individuals with specific needs?\",\n",
       "        \"role\": \"assistant\"\n",
       "      }\n",
       "    }\n",
       "  ],\n",
       "  \"created\": 1680288872,\n",
       "  \"id\": \"chatcmpl-70EBMk7YkQPi4VPIuXamlEz0lnmgC\",\n",
       "  \"model\": \"gpt-3.5-turbo-0301\",\n",
       "  \"object\": \"chat.completion\",\n",
       "  \"usage\": {\n",
       "    \"completion_tokens\": 262,\n",
       "    \"prompt_tokens\": 64,\n",
       "    \"total_tokens\": 326\n",
       "  }\n",
       "}"
      ]
     },
     "execution_count": 58,
     "metadata": {},
     "output_type": "execute_result"
    },
    {
     "name": "stdout",
     "output_type": "stream",
     "text": [
      "time: 3.05 ms (started: 2023-04-01 00:24:53 +05:30)\n"
     ]
    }
   ],
   "source": [
    "response"
   ]
  },
  {
   "cell_type": "code",
   "execution_count": 63,
   "metadata": {},
   "outputs": [
    {
     "name": "stdout",
     "output_type": "stream",
     "text": [
      "1. \"Give five examples of how breaking down larger tasks into smaller steps can benefit those with ADHD and executive dysfunction.\"\n",
      "\n",
      "2. \"Discuss the importance of creating detailed task lists with specific, actionable steps for individuals with ADHD and executive dysfunction.\"\n",
      "\n",
      "3. \"Explain how utilizing task management tools such as calendars, reminders, and checklists can help individuals with ADHD and executive dysfunction break down tasks into manageable steps.\"\n",
      "\n",
      "4. \"Offer strategies to help individuals with ADHD and executive dysfunction prioritize and sequence individual tasks on a to-do list.\"\n",
      "\n",
      "5. \"Describe how setting clear goals and timelines for completing individual steps within a larger task can improve productivity and reduce feelings of overwhelm for those with ADHD and executive dysfunction.\"\n",
      "\n",
      "6. \"Provide tips for breaking down complex tasks into more manageable steps, including mapping out a plan, identifying resources, and setting intermediate goals.\"\n",
      "\n",
      "7. \"Create a sample to-do list for a person with ADHD or executive dysfunction, with detailed steps for each task and suggestions for task management.\"\n",
      "\n",
      "8. \"Discuss the role of self-monitoring and self-reflection in task breakdown and management, and offer strategies for individuals with ADHD and executive dysfunction to develop these skills.\"\n",
      "\n",
      "9. \"Explain how habit formation and repetition can help individuals with ADHD and executive dysfunction build task management skills over time.\"\n",
      "\n",
      "10. \"Provide examples of how breaking down tasks into smaller steps can improve motivation, reduce procrastination, and promote a sense of accomplishment for individuals with ADHD and executive dysfunction.\"\n",
      "time: 310 µs (started: 2023-04-01 00:30:29 +05:30)\n"
     ]
    }
   ],
   "source": [
    "print(response[\"choices\"][0][\"message\"][\"content\"])"
   ]
  },
  {
   "attachments": {},
   "cell_type": "markdown",
   "metadata": {},
   "source": [
    "#### **pupa's note**: Not satisfactory. `gpt-3.5-turbo` does not handle the above prompt well. Moving on..."
   ]
  },
  {
   "cell_type": "code",
   "execution_count": 152,
   "metadata": {},
   "outputs": [
    {
     "name": "stdout",
     "output_type": "stream",
     "text": [
      "time: 306 µs (started: 2023-04-01 10:54:27 +05:30)\n"
     ]
    }
   ],
   "source": [
    "# todo_list = \"\"\"Today's to-do list:\n",
    "\n",
    "# - Go to the grocery store\n",
    "# - Workout in the gym\n",
    "# - Go to the doctor's appointment\n",
    "# - Pickup Manu from station\n",
    "# - Call mom\n",
    "\n",
    "# \"\"\"\n",
    "\n",
    "todo_list = \"\"\"Today's to-do list:\n",
    "\n",
    "- Call Jessica\n",
    "- Complete writing the blog post\n",
    "- Cook brownies for dad's birthday\n",
    "- Collect package from the post office\n",
    "- Buy groceries for the week\n",
    "\n",
    "\"\"\""
   ]
  },
  {
   "cell_type": "code",
   "execution_count": 189,
   "metadata": {},
   "outputs": [
    {
     "name": "stdout",
     "output_type": "stream",
     "text": [
      "time: 27.3 s (started: 2023-04-01 12:59:33 +05:30)\n"
     ]
    }
   ],
   "source": [
    "# generate results by calling the openai's api's chat endpoint\n",
    "\n",
    "prompts = config[\"prompts\"]\n",
    "\n",
    "response = openai.ChatCompletion.create(\n",
    "    model=config[\"models\"][\"gpt-3.5\"][\"model-name\"],\n",
    "    messages=[\n",
    "        {\"role\": \"system\", \"content\": prompts[\"subtask_system_prompt\"]},\n",
    "        {\n",
    "            \"role\": \"user\",\n",
    "            \"content\": prompts[\"task_division_prompt_prefix\"]\n",
    "            + todo_list\n",
    "            + prompts[\"task_division_prompt_suffix\"],\n",
    "        },\n",
    "    ],\n",
    "    temperature=0.5,\n",
    "    max_tokens=1024,\n",
    "    top_p=1,\n",
    "    frequency_penalty=0,\n",
    "    presence_penalty=0,\n",
    "    stop=[\"\\n\\n\\n\"],\n",
    ")"
   ]
  },
  {
   "cell_type": "code",
   "execution_count": 190,
   "metadata": {},
   "outputs": [
    {
     "name": "stdout",
     "output_type": "stream",
     "text": [
      "time: 224 µs (started: 2023-04-01 13:00:11 +05:30)\n"
     ]
    }
   ],
   "source": [
    "separate_tasks = response[\"choices\"][0][\"message\"][\"content\"]"
   ]
  },
  {
   "cell_type": "code",
   "execution_count": 192,
   "metadata": {},
   "outputs": [
    {
     "name": "stdout",
     "output_type": "stream",
     "text": [
      "Task: Call Jessica\n",
      "Mini Atomic Task | Time Estimate | Priority Level |\n",
      "Check availability | 5 | Medium |\n",
      "Make the call | 10 | High |\n",
      "Follow-up email | 5 | Low |\n",
      "\n",
      "Task: Complete writing the blog post\n",
      "Mini Atomic Task | Time Estimate | Priority Level |\n",
      "Outline the post | 15 | Medium |\n",
      "Research and gather information | 30 | High |\n",
      "Write the first draft | 45 | High |\n",
      "Revise and edit | 30 | High |\n",
      "Finalize and proofread | 15 | Medium |\n",
      "\n",
      "Task: Cook brownies for dad's birthday\n",
      "Mini Atomic Task | Time Estimate | Priority Level |\n",
      "Gather ingredients | 10 | Medium |\n",
      "Preheat oven | 5 | Low |\n",
      "Mix ingredients | 15 | High |\n",
      "Pour into the baking dish | 5 | Low |\n",
      "Bake in the oven | 30 | High |\n",
      "Cool and decorate | 20 | Medium |\n",
      "\n",
      "Task: Collect package from the post office\n",
      "Mini Atomic Task | Time Estimate | Priority Level |\n",
      "Check post office hours | 5 | Low |\n",
      "Get ready to go out | 10 | Medium |\n",
      "Travel to the post office | 20 | High |\n",
      "Collect the package | 5 | High |\n",
      "\n",
      "Task: Buy groceries for the week\n",
      "Mini Atomic Task | Time Estimate | Priority Level |\n",
      "Make a list of groceries | 10 | Medium |\n",
      "Check for deals and coupons | 15 | Low |\n",
      "Travel to the grocery store | 20 | High |\n",
      "Shop for groceries | 45 | High |\n",
      "Check-out and pay | 10 | Medium |\n",
      "\n",
      "Note: The time estimates are subjective and may vary based on the individual's speed and focus level. It is important to take breaks and prioritize tasks based on their importance and urgency to ensure maximum productivity and efficiency.\n",
      "time: 203 µs (started: 2023-04-01 13:00:19 +05:30)\n"
     ]
    }
   ],
   "source": [
    "print(separate_tasks)"
   ]
  },
  {
   "cell_type": "code",
   "execution_count": 195,
   "metadata": {},
   "outputs": [
    {
     "name": "stdout",
     "output_type": "stream",
     "text": [
      "time: 762 µs (started: 2023-04-01 13:01:15 +05:30)\n"
     ]
    }
   ],
   "source": [
    "# Function to store the task and their division as a dictionary\n",
    "def parse_tasks(tasks_output: str) -> dict:\n",
    "    tasks = []\n",
    "    for task in tasks_output.split(\"Task: \"):\n",
    "        current_task = {}\n",
    "        if task.strip() == \"\":\n",
    "            continue\n",
    "        task_name, task_details = task.split(\"\\nMini Atomic Task | Time Estimate | Priority Level |\")\n",
    "        task_name = task_name.strip()\n",
    "        task_details = task_details.strip()\n",
    "        current_task[\"task_name\"] = task_name\n",
    "        current_task[\"task_details\"] = []\n",
    "        for task_detail in task_details.split(\"\\n\"):\n",
    "            current_task_detail = {}\n",
    "            if task_detail.strip() == \"\" or len(task_detail.split(\"|\")) != 4:\n",
    "                continue\n",
    "            task_detail = task_detail.strip()\n",
    "            task_detail_name, task_time_estimate, task_priority, _ = task_detail.split(\"|\")\n",
    "            current_task_detail[\"task_detail_name\"] = task_detail_name.strip()\n",
    "            current_task_detail[\"task_time_estimate\"] = task_time_estimate.strip()\n",
    "            current_task_detail[\"task_priority\"] = task_priority.strip()\n",
    "            current_task[\"task_details\"].append(current_task_detail)\n",
    "        tasks.append(current_task)\n",
    "    return tasks"
   ]
  },
  {
   "cell_type": "code",
   "execution_count": 196,
   "metadata": {},
   "outputs": [
    {
     "name": "stdout",
     "output_type": "stream",
     "text": [
      "[{'task_details': [{'task_detail_name': 'Check availability',\n",
      "                    'task_priority': 'Medium',\n",
      "                    'task_time_estimate': '5'},\n",
      "                   {'task_detail_name': 'Make the call',\n",
      "                    'task_priority': 'High',\n",
      "                    'task_time_estimate': '10'},\n",
      "                   {'task_detail_name': 'Follow-up email',\n",
      "                    'task_priority': 'Low',\n",
      "                    'task_time_estimate': '5'}],\n",
      "  'task_name': 'Call Jessica'},\n",
      " {'task_details': [{'task_detail_name': 'Outline the post',\n",
      "                    'task_priority': 'Medium',\n",
      "                    'task_time_estimate': '15'},\n",
      "                   {'task_detail_name': 'Research and gather information',\n",
      "                    'task_priority': 'High',\n",
      "                    'task_time_estimate': '30'},\n",
      "                   {'task_detail_name': 'Write the first draft',\n",
      "                    'task_priority': 'High',\n",
      "                    'task_time_estimate': '45'},\n",
      "                   {'task_detail_name': 'Revise and edit',\n",
      "                    'task_priority': 'High',\n",
      "                    'task_time_estimate': '30'},\n",
      "                   {'task_detail_name': 'Finalize and proofread',\n",
      "                    'task_priority': 'Medium',\n",
      "                    'task_time_estimate': '15'}],\n",
      "  'task_name': 'Complete writing the blog post'},\n",
      " {'task_details': [{'task_detail_name': 'Gather ingredients',\n",
      "                    'task_priority': 'Medium',\n",
      "                    'task_time_estimate': '10'},\n",
      "                   {'task_detail_name': 'Preheat oven',\n",
      "                    'task_priority': 'Low',\n",
      "                    'task_time_estimate': '5'},\n",
      "                   {'task_detail_name': 'Mix ingredients',\n",
      "                    'task_priority': 'High',\n",
      "                    'task_time_estimate': '15'},\n",
      "                   {'task_detail_name': 'Pour into the baking dish',\n",
      "                    'task_priority': 'Low',\n",
      "                    'task_time_estimate': '5'},\n",
      "                   {'task_detail_name': 'Bake in the oven',\n",
      "                    'task_priority': 'High',\n",
      "                    'task_time_estimate': '30'},\n",
      "                   {'task_detail_name': 'Cool and decorate',\n",
      "                    'task_priority': 'Medium',\n",
      "                    'task_time_estimate': '20'}],\n",
      "  'task_name': \"Cook brownies for dad's birthday\"},\n",
      " {'task_details': [{'task_detail_name': 'Check post office hours',\n",
      "                    'task_priority': 'Low',\n",
      "                    'task_time_estimate': '5'},\n",
      "                   {'task_detail_name': 'Get ready to go out',\n",
      "                    'task_priority': 'Medium',\n",
      "                    'task_time_estimate': '10'},\n",
      "                   {'task_detail_name': 'Travel to the post office',\n",
      "                    'task_priority': 'High',\n",
      "                    'task_time_estimate': '20'},\n",
      "                   {'task_detail_name': 'Collect the package',\n",
      "                    'task_priority': 'High',\n",
      "                    'task_time_estimate': '5'}],\n",
      "  'task_name': 'Collect package from the post office'},\n",
      " {'task_details': [{'task_detail_name': 'Make a list of groceries',\n",
      "                    'task_priority': 'Medium',\n",
      "                    'task_time_estimate': '10'},\n",
      "                   {'task_detail_name': 'Check for deals and coupons',\n",
      "                    'task_priority': 'Low',\n",
      "                    'task_time_estimate': '15'},\n",
      "                   {'task_detail_name': 'Travel to the grocery store',\n",
      "                    'task_priority': 'High',\n",
      "                    'task_time_estimate': '20'},\n",
      "                   {'task_detail_name': 'Shop for groceries',\n",
      "                    'task_priority': 'High',\n",
      "                    'task_time_estimate': '45'},\n",
      "                   {'task_detail_name': 'Check-out and pay',\n",
      "                    'task_priority': 'Medium',\n",
      "                    'task_time_estimate': '10'}],\n",
      "  'task_name': 'Buy groceries for the week'}]\n",
      "time: 1.43 ms (started: 2023-04-01 13:01:16 +05:30)\n"
     ]
    }
   ],
   "source": [
    "pprint(parse_tasks(separate_tasks))"
   ]
  },
  {
   "cell_type": "code",
   "execution_count": null,
   "metadata": {},
   "outputs": [],
   "source": []
  }
 ],
 "metadata": {
  "kernelspec": {
   "display_name": "venv",
   "language": "python",
   "name": "python3"
  },
  "language_info": {
   "codemirror_mode": {
    "name": "ipython",
    "version": 3
   },
   "file_extension": ".py",
   "mimetype": "text/x-python",
   "name": "python",
   "nbconvert_exporter": "python",
   "pygments_lexer": "ipython3",
   "version": "3.9.16"
  },
  "orig_nbformat": 4
 },
 "nbformat": 4,
 "nbformat_minor": 2
}
